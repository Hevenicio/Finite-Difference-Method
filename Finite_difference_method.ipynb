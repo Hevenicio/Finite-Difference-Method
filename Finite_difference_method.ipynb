{
 "cells": [
  {
   "cell_type": "markdown",
   "metadata": {},
   "source": [
    "## Problema - Numerical Methods in Engineering with Python 3 \n",
    "<p>Usando as primeiras aproximações de diferença central para transformar o problema do valor limite, com o método de diferenças finitas para a equação:\n",
    "        $$y'' + 2y(2xy' + y) = 0,$$\n",
    "        $$y(0) = 1/2, y'(1) = −2/9.$$ \n",
    "        Em que a solução exata é:\n",
    "            $$y = 1/(2 + x 2 ).$$</p>"
   ]
  },
  {
   "cell_type": "code",
   "execution_count": 15,
   "metadata": {},
   "outputs": [],
   "source": [
    "import numpy as np\n",
    "import matplotlib.pyplot as plt\n",
    "%matplotlib inline\n",
    "%config InlineBackend.rc={'figure.figsize': (12, 6)}"
   ]
  },
  {
   "cell_type": "markdown",
   "metadata": {},
   "source": [
    "## Swap\n",
    "<p>A função swapRows troca as linhas $i$ e $j$ de uma matriz ou vetor $\\mathbf{v}$, enquanto swapCols troca as colunas $i$ e $j$ de uma matriz.<p>"
   ]
  },
  {
   "cell_type": "code",
   "execution_count": 16,
   "metadata": {},
   "outputs": [],
   "source": [
    "def swapRows(v, i, j):\n",
    "    if len(v.shape) == 1:\n",
    "        v[i],v[j] = v[j],v[i]\n",
    "    else:\n",
    "        v[[i,j],:] = v[[j,i],:]"
   ]
  },
  {
   "cell_type": "code",
   "execution_count": 17,
   "metadata": {},
   "outputs": [],
   "source": [
    "def swapCols(v, i, j):\n",
    "    v[:,[i,j]] = v[:,[j,i]]"
   ]
  },
  {
   "cell_type": "markdown",
   "metadata": {},
   "source": [
    "## Eliminação de Gauss\n",
    "\n",
    "<p>A eliminação de Gauss é o método mais conhecido para resolver equações simultâneas. Consiste em duas partes: a fase de eliminação e a fase de substituição traseira. A função da fase de eliminação é transformar as equações $\\mathbf{Ax = b}$ na forma $\\mathbf{Ux = c}$.</p>\n",
    "\n",
    "<p>A função gaussPivot executa a eliminação de Gauss com o troca da linha.</p>"
   ]
  },
  {
   "cell_type": "code",
   "execution_count": 18,
   "metadata": {},
   "outputs": [],
   "source": [
    "def gaussPivot(a, b, tol=1.0e-12):\n",
    "    \"\"\"\n",
    "    Resolve [a] {x} = {b} pela eliminação de Gauss com pivô de linha em escala\n",
    "    \"\"\"\n",
    "    \n",
    "    n = len(b)\n",
    "    \n",
    "    #Fatores de escala\n",
    "    s = np.zeros(n)\n",
    "    for i in range(n):\n",
    "        s[i] = max(abs(a[i,:]))\n",
    "\n",
    "    for k in range(0, n-1):\n",
    "\n",
    "      #Troca de linha\n",
    "        p = np.argmax(abs(a[k:n, k])/s[k:n]) + k\n",
    "        if abs(a[p, k]) < tol: print('Matriz é singular')\n",
    "        if p != k:\n",
    "            swapRows(b, k, p)\n",
    "            swapRows(s, k, p)\n",
    "            swapRows(a, k, p)\n",
    "\n",
    "      #Eliminação\n",
    "        for i in range(k+1, n):\n",
    "            if a[i, k] != 0.0:\n",
    "                lam = a[i, k]/a[k, k]\n",
    "                a[i, k+1:n] = a [i, k+1:n] - lam*a[k, k+1:n]\n",
    "                b[i] = b[i] - lam*b[k]\n",
    "    if abs(a[n-1,n-1]) < tol: print('Matriz é singular')\n",
    "\n",
    "    #Substituição de volta/retorno\n",
    "    b[n-1] = b[n-1]/a[n-1, n-1]\n",
    "    for k in range(n-2, -1, -1):\n",
    "        b[k] = (b[k] - np.dot(a[k, k+1:n], b[k+1:n]))/a[k, k]\n",
    "    return b"
   ]
  },
  {
   "cell_type": "markdown",
   "metadata": {},
   "source": [
    "## Método Newton-Raphson\n",
    "<p>O algoritmo Newton-Raphson é o método mais conhecido para encontrar raízes, por um bom motivo: é simples e rápido. A única desvantagem do método é que ele usa a derivada $f'(x)$ da função, bem como a própria função $f(x)$. Portanto, o método Newton-Raphson é utilizável apenas em problemas em que $f'(x)$ pode ser facilmente calculado.</p>\n",
    "\n",
    "<p>Para derivar o método Newton-Raphson para um sistema de equações, começamos com a expansão da série Taylor de $f_{i}(x)$ sobre o ponto $x$:</p>\n",
    "\n",
    "<p>$$f_{i}(\\mathbf{x} + \\Delta \\mathbf{x}) = f_{i}(\\mathbf{x}) + \\sum_{j = 1}^{n}\\frac{\\partial f_{i}}{\\partial x_{j}}\\Delta x_{j} + O(\\Delta x^{2})$$</p>\n",
    "\n",
    "<p>Desconsiderando os termos de ordem $\\Delta x^{2}$, podemos escrever a equação acima como:</p>\n",
    "\n",
    "<p>$$\\mathbf{f}(\\mathbf{x} +  \\mathbf{\\Delta x}) = \\mathbf{ f(x) +  J(x)\\Delta x}, J_{ij} = \\frac{\\partial f_{i}}{\\partial x_{j}}$$</p>\n",
    "\n",
    "\n",
    "<p>Observe que a equação acima é uma aproximação linear (vetor $\\Delta x$ sendo a variável) da função de valor vetorial $f$ na vizinhança do ponto $x$. Onde $J(x)$ é a matriz jacobiana (de ordem $n \\times n$) composta pelas derivadas parciais.</p>"
   ]
  },
  {
   "cell_type": "code",
   "execution_count": 19,
   "metadata": {},
   "outputs": [],
   "source": [
    "def newtonRaphson2(f, x, tol=1.0e-9):\n",
    "    \"\"\"\n",
    "    Resolve as equações simultâneas f(x) = 0 pelo método de Newton-Raphson usando {x} como estimativa inicial.\n",
    "    Observe que {f} e {x} são vetores.\n",
    "    \"\"\"\n",
    "    \n",
    "    def jacobian(f, x):\n",
    "        h = 1.0e-6\n",
    "        n = len(x)\n",
    "        jac = np.zeros((n, n))\n",
    "        f0 = f(x)\n",
    "        for i in range(n):\n",
    "            temp = x[i]\n",
    "            x[i] = temp + h\n",
    "            f1 = f(x)\n",
    "            x[i] = temp\n",
    "            jac[:,i] = (f1 - f0)/h\n",
    "        return jac, f0\n",
    "    \n",
    "    for i in range(30):\n",
    "        jac,f0 = jacobian(f, x)\n",
    "        if np.sqrt(np.dot(f0, f0)/len(x)) < tol: return x\n",
    "        dx = gaussPivot(jac, -f0)\n",
    "        x = x + dx\n",
    "        if np.sqrt(np.dot(dx, dx)) < tol*max(max(abs(x)), 1.0): return x\n",
    "    print ('Muitas iterações')"
   ]
  },
  {
   "cell_type": "markdown",
   "metadata": {},
   "source": [
    "## Método das Diferenças Finitas\n",
    "<p>No método das diferenças finitas, dividimos o intervalo de integração $(a, b)$ em $m$ subintervalos iguais de comprimento $h$ cada. Os valores da solução numérica nos pontos de malha são indicados por $y_{i}, i = 0, 1, ..., m$.</p>\n",
    "<p>As derivadas de $y$ na equação diferencial são substituídas pelas expressões de diferenças finitas. É prática comum usar as primeiras aproximações de diferença central.</p>\n",
    "\n",
    "<p>A função $residual(y)$ retorna os resíduos das equações de diferenças finitas. A equação diferencial $y'' = f(x, y, y')$ é definida na função $F(x, y, yPrime)$. Os valores iniciais de $y_{0}, y_{1}, ..., y_{m}$ são especificados pela função $startSoln(x)$.</p>"
   ]
  },
  {
   "cell_type": "code",
   "execution_count": 20,
   "metadata": {},
   "outputs": [],
   "source": [
    "def residual(y): #Residual de diferenças finitas\n",
    "    r = np.zeros(m + 1)\n",
    "    r[0] = y[0] - 0.5\n",
    "    r[m] = 2*y[m-1] - 2*y[m] - (h**2)*(F(x[m],y[m],(-2/9))) - 2*h*(2/9)\n",
    "\n",
    "    for i in range(1,m):\n",
    "        r[i] = y[i-1] - 2.0*y[i] + y[i+1] - h*h*F(x[i],y[i],(y[i+1] - y[i-1])/(2.0*h))\n",
    "        \n",
    "    return r"
   ]
  },
  {
   "cell_type": "code",
   "execution_count": 21,
   "metadata": {},
   "outputs": [],
   "source": [
    "def F(x, y, yPrime): #Equação Diferencial y\" = F(x,y,y’)\n",
    "    F = - 2*y*(2*x*yPrime + y)\n",
    "    return F"
   ]
  },
  {
   "cell_type": "code",
   "execution_count": 22,
   "metadata": {},
   "outputs": [],
   "source": [
    "def startSoln(x): #Iniciando solução y(x)\n",
    "    y = np.zeros(m + 1)\n",
    "    for i in range(m + 1): y[i] = 0.5*x[i]\n",
    "    return y"
   ]
  },
  {
   "cell_type": "code",
   "execution_count": 23,
   "metadata": {},
   "outputs": [],
   "source": [
    "xStart = 0.0 #x à esquerda\n",
    "xStop  = 1.0 #x na extremidade direita\n",
    "m = 20       #Número de intervalos"
   ]
  },
  {
   "cell_type": "code",
   "execution_count": 24,
   "metadata": {},
   "outputs": [],
   "source": [
    "h = (xStop - xStart)/m\n",
    "x = np.arange(xStart, xStop + h, h)\n",
    "y = newtonRaphson2(residual, startSoln(x), 1.0e-8)"
   ]
  },
  {
   "cell_type": "markdown",
   "metadata": {},
   "source": [
    "## Solução exata"
   ]
  },
  {
   "cell_type": "code",
   "execution_count": 25,
   "metadata": {},
   "outputs": [],
   "source": [
    "#Solução analitica para comparação dos resultados\n",
    "def yanalitica(x):\n",
    "    return 1/(2 + x**2)"
   ]
  },
  {
   "cell_type": "code",
   "execution_count": 26,
   "metadata": {},
   "outputs": [],
   "source": [
    "z = yanalitica(x)"
   ]
  },
  {
   "cell_type": "code",
   "execution_count": 27,
   "metadata": {},
   "outputs": [
    {
     "name": "stdout",
     "output_type": "stream",
     "text": [
      "\n",
      "        x              y\n",
      "   0.00000e+00    5.00000e-01\n",
      "   5.00000e-02    4.99365e-01\n",
      "   1.00000e-01    4.97490e-01\n",
      "   1.50000e-01    4.94402e-01\n",
      "   2.00000e-01    4.90146e-01\n",
      "   2.50000e-01    4.84783e-01\n",
      "   3.00000e-01    4.78388e-01\n",
      "   3.50000e-01    4.71046e-01\n",
      "   4.00000e-01    4.62850e-01\n",
      "   4.50000e-01    4.53901e-01\n",
      "   5.00000e-01    4.44300e-01\n",
      "   5.50000e-01    4.34151e-01\n",
      "   6.00000e-01    4.23555e-01\n",
      "   6.50000e-01    4.12610e-01\n",
      "   7.00000e-01    4.01407e-01\n",
      "   7.50000e-01    3.90033e-01\n",
      "   8.00000e-01    3.78567e-01\n",
      "   8.50000e-01    3.67079e-01\n",
      "   9.00000e-01    3.55633e-01\n",
      "   9.50000e-01    3.44284e-01\n",
      "   1.00000e+00    3.33080e-01\n"
     ]
    }
   ],
   "source": [
    "#Saida de dados\n",
    "print(\"\\n        x              y\")\n",
    "for i in range(m + 1):\n",
    "    print (\"%14.5e %14.5e\"%(x[i],y[i]))"
   ]
  },
  {
   "cell_type": "code",
   "execution_count": 28,
   "metadata": {
    "scrolled": false
   },
   "outputs": [
    {
     "data": {
      "image/png": "[encoded data removed]",
      "text/plain": [
       "<Figure size 864x432 with 1 Axes>"
      ]
     },
     "metadata": {
      "needs_background": "light"
     },
     "output_type": "display_data"
    }
   ],
   "source": [
    "#Plotando os resultados\n",
    "plt.figure()\n",
    "plt.title('Método das Diferenças Finitas')\n",
    "plt.plot(x, y, 'bo', label = 'Diferenças Finitas')\n",
    "plt.plot(x, z, 'g', label = 'Solução Analitica')\n",
    "plt.grid()\n",
    "plt.xlabel('$x$')\n",
    "plt.ylabel('$y$')\n",
    "plt.legend()\n",
    "plt.show()"
   ]
  }
 ],
 "metadata": {
  "kernelspec": {
   "display_name": "Python 3",
   "language": "python",
   "name": "python3"
  },
  "language_info": {
   "codemirror_mode": {
    "name": "ipython",
    "version": 3
   },
   "file_extension": ".py",
   "mimetype": "text/x-python",
   "name": "python",
   "nbconvert_exporter": "python",
   "pygments_lexer": "ipython3",
   "version": "3.7.3"
  }
 },
 "nbformat": 4,
 "nbformat_minor": 2
}
